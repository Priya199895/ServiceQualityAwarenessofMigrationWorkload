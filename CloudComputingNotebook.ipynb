{
 "cells": [
  {
   "cell_type": "code",
   "execution_count": 7,
   "id": "17150d75",
   "metadata": {},
   "outputs": [
    {
     "name": "stdout",
     "output_type": "stream",
     "text": [
      "0      1\n",
      "1      0\n",
      "2      1\n",
      "3      0\n",
      "4      1\n",
      "      ..\n",
      "171    0\n",
      "172    0\n",
      "173    0\n",
      "174    0\n",
      "175    0\n",
      "Name: migration, Length: 176, dtype: int32\n",
      "Accuracy: 1.0\n",
      "Classification Report:\n",
      "               precision    recall  f1-score   support\n",
      "\n",
      "           0       1.00      1.00      1.00        31\n",
      "           1       1.00      1.00      1.00         5\n",
      "\n",
      "    accuracy                           1.00        36\n",
      "   macro avg       1.00      1.00      1.00        36\n",
      "weighted avg       1.00      1.00      1.00        36\n",
      "\n"
     ]
    }
   ],
   "source": [
    "import pandas as pd\n",
    "from sklearn.model_selection import train_test_split\n",
    "from sklearn.ensemble import RandomForestClassifier\n",
    "from sklearn.metrics import accuracy_score, classification_report\n",
    "\n",
    "# Load data from Excel file\n",
    "file_path = \"C:\\\\Python312\\\\output_core_data.xlsx\"  # Replace with the actual file path\n",
    "df = pd.read_excel(file_path)\n",
    "\n",
    "# Define migration thresholds for each feature\n",
    "cpu_threshold = 1.2\n",
    "vir_mem_threshold = 5000000000  # 7 billion\n",
    "phy_mem_threshold = 1000000000  # 1 billion\n",
    "net_bytes_threshold = 300\n",
    "\n",
    "# Create binary 'migration' target variable based on thresholds\n",
    "df['migration'] = (\n",
    "    (df['core_value'] > cpu_threshold) &\n",
    "    (df['vir_mem_value'] > vir_mem_threshold) &\n",
    "    (df['phy_mem_value'] > phy_mem_threshold) &\n",
    "    (df['data_net_bytes_total']> net_bytes_threshold)\n",
    ").astype(int)\n",
    "\n",
    "print(df['migration'])\n",
    "# Features and target\n",
    "X = df[['core_value', 'vir_mem_value', 'phy_mem_value', 'data_net_bytes_total']]\n",
    "y = df['migration']\n",
    "\n",
    "# Split data\n",
    "X_train, X_test, y_train, y_test = train_test_split(X, y, test_size=0.2, random_state=42)\n",
    "\n",
    "# Train RandomForestClassifier\n",
    "model = RandomForestClassifier()\n",
    "model.fit(X_train, y_train)\n",
    "\n",
    "# Predictions\n",
    "predictions = model.predict(X_test)\n",
    "\n",
    "# Evaluate model\n",
    "accuracy = accuracy_score(y_test, predictions)\n",
    "report = classification_report(y_test, predictions)\n",
    "\n",
    "print(\"Accuracy:\", accuracy)\n",
    "print(\"Classification Report:\\n\", report)\n"
   ]
  },
  {
   "cell_type": "code",
   "execution_count": null,
   "id": "0823ed43",
   "metadata": {},
   "outputs": [],
   "source": []
  }
 ],
 "metadata": {
  "kernelspec": {
   "display_name": "Python 3 (ipykernel)",
   "language": "python",
   "name": "python3"
  },
  "language_info": {
   "codemirror_mode": {
    "name": "ipython",
    "version": 3
   },
   "file_extension": ".py",
   "mimetype": "text/x-python",
   "name": "python",
   "nbconvert_exporter": "python",
   "pygments_lexer": "ipython3",
   "version": "3.8.8"
  }
 },
 "nbformat": 4,
 "nbformat_minor": 5
}
